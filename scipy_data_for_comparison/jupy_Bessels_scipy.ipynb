{
 "cells": [
  {
   "cell_type": "code",
   "execution_count": 2,
   "metadata": {
    "metadata": {}
   },
   "outputs": [],
   "source": [
    "import numpy             as np\n",
    "import matplotlib.pyplot as plt\n",
    "import time\n",
    "import os\n",
    "\n",
    "\n",
    "# --- Module perso --- #\n",
    "import sys\n",
    "# sys.path.append('../TOOLBOX')\n",
    "\n",
    "# %matplotlib widget"
   ]
  },
  {
   "cell_type": "code",
   "execution_count": 3,
   "metadata": {
    "metadata": {}
   },
   "outputs": [],
   "source": [
    "SMALL_SIZE  = 12\n",
    "MEDIUM_SIZE = 12\n",
    "BIGGER_SIZE = 18\n",
    "plt.rc('font'   , size      = SMALL_SIZE )   # controls default text sizes\n",
    "plt.rc('axes'   , titlesize = SMALL_SIZE )   # fontsize of the axes title\n",
    "plt.rc('axes'   , labelsize = MEDIUM_SIZE)   # fontsize of the x and y labels\n",
    "plt.rc('xtick'  , labelsize = SMALL_SIZE )   # fontsize of the tick labels\n",
    "plt.rc('ytick'  , labelsize = SMALL_SIZE )   # fontsize of the tick labels\n",
    "plt.rc('legend' , fontsize  = SMALL_SIZE )   # legend fontsize\n",
    "plt.rc('figure' , titlesize = BIGGER_SIZE)   # fontsize of the figure title\n",
    "plt.rc('text'   , usetex    =       False)\n",
    "plt.rc('font'   , family    =    'arial' ) # 'serif'\n",
    "plt.rc('font'   , style     =    'italic') # 'serif'\n",
    "# ---\n",
    "#import lib_save_plt_plot_as_pgf"
   ]
  },
  {
   "cell_type": "markdown",
   "metadata": {},
   "source": [
    "# Show tube scattered intensity diagram"
   ]
  },
  {
   "cell_type": "code",
   "execution_count": 6,
   "metadata": {},
   "outputs": [],
   "source": [
    "from scipy.special  import jv , yv\n",
    "from scipy.special  import jvp, yvp\n",
    "from scipy.special  import hankel1 as h1v\n",
    "from scipy.special  import hankel2 as h2v\n",
    "from scipy.special  import h1vp, h2vp\n",
    "\n",
    "# ---  --- #\n",
    "dx = 0.1\n",
    "x  = np.arange(-20, 50+dx, dx)\n",
    "for n in range(-30,30):\n",
    "    fname_save = \"data_j{:d}.txt\".format(n)\n",
    "    np.savetxt(fname_save, np.array([x,jv(n,x)]), delimiter=\",\")\n",
    "    # ---\n",
    "    fname_save = \"data_y{:d}.txt\".format(n)\n",
    "    np.savetxt(fname_save, np.array([x,yv(n,x)]), delimiter=\",\")\n",
    "    # ---\n",
    "    fname_save = \"data_jp{:d}.txt\".format(n)\n",
    "    np.savetxt(fname_save, np.array([x,jvp(n,x)]), delimiter=\",\")\n",
    "    # ---\n",
    "    fname_save = \"data_yp{:d}.txt\".format(n)\n",
    "    np.savetxt(fname_save, np.array([x,yvp(n,x)]), delimiter=\",\")"
   ]
  },
  {
   "cell_type": "code",
   "execution_count": null,
   "metadata": {},
   "outputs": [],
   "source": []
  },
  {
   "cell_type": "code",
   "execution_count": null,
   "metadata": {},
   "outputs": [],
   "source": []
  }
 ],
 "metadata": {
  "kernelspec": {
   "display_name": "Python 3",
   "language": "python",
   "name": "python3"
  },
  "language_info": {
   "codemirror_mode": {
    "name": "ipython",
    "version": 3
   },
   "file_extension": ".py",
   "mimetype": "text/x-python",
   "name": "python",
   "nbconvert_exporter": "python",
   "pygments_lexer": "ipython3",
   "version": "3.12.6"
  },
  "latex_envs": {
   "LaTeX_envs_menu_present": true,
   "autoclose": false,
   "autocomplete": false,
   "bibliofile": "biblio.bib",
   "cite_by": "apalike",
   "current_citInitial": 1,
   "eqLabelWithNumbers": true,
   "eqNumInitial": 1,
   "hotkeys": {
    "equation": "Ctrl-E",
    "itemize": "Ctrl-I"
   },
   "labels_anchors": false,
   "latex_user_defs": false,
   "report_style_numbering": false,
   "user_envs_cfg": false
  },
  "toc": {
   "base_numbering": 1,
   "nav_menu": {},
   "number_sections": true,
   "sideBar": true,
   "skip_h1_title": false,
   "title_cell": "Table of Contents",
   "title_sidebar": "Contents",
   "toc_cell": false,
   "toc_position": {
    "height": "calc(100% - 180px)",
    "left": "10px",
    "top": "150px",
    "width": "289px"
   },
   "toc_section_display": true,
   "toc_window_display": true
  }
 },
 "nbformat": 4,
 "nbformat_minor": 4
}
