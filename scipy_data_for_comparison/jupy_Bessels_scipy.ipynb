{
 "cells": [
  {
   "cell_type": "code",
   "execution_count": 1,
   "metadata": {},
   "outputs": [
    {
     "name": "stderr",
     "output_type": "stream",
     "text": [
      "c:\\Users\\Clément\\AppData\\Local\\Programs\\Python\\Python312\\Lib\\site-packages\\scipy\\special\\_basic.py:830: RuntimeWarning: invalid value encountered in add\n",
      "  s += p*L(v-n + i*2, z)\n"
     ]
    }
   ],
   "source": [
    "import numpy             as np\n",
    "# ---\n",
    "from scipy.special  import jv , yv\n",
    "from scipy.special  import jvp, yvp\n",
    "from scipy.special  import hankel1 as h1v\n",
    "from scipy.special  import hankel2 as h2v\n",
    "from scipy.special  import h1vp, h2vp\n",
    "\n",
    "# ---  --- #\n",
    "dx = 0.1\n",
    "x  = np.arange(-20, 50+dx, dx)\n",
    "for n in range(-30,30):\n",
    "    fname_save = \"data_j{:d}.txt\".format(n)\n",
    "    np.savetxt(fname_save, np.array([x,jv(n,x)]), delimiter=\",\")\n",
    "    # ---\n",
    "    fname_save = \"data_y{:d}.txt\".format(n)\n",
    "    np.savetxt(fname_save, np.array([x,yv(n,x)]), delimiter=\",\")\n",
    "    # ---\n",
    "    fname_save = \"data_jp{:d}.txt\".format(n)\n",
    "    np.savetxt(fname_save, np.array([x,jvp(n,x)]), delimiter=\",\")\n",
    "    # ---\n",
    "    fname_save = \"data_yp{:d}.txt\".format(n)\n",
    "    np.savetxt(fname_save, np.array([x,yvp(n,x)]), delimiter=\",\")"
   ]
  },
  {
   "cell_type": "code",
   "execution_count": null,
   "metadata": {},
   "outputs": [],
   "source": []
  }
 ],
 "metadata": {
  "kernelspec": {
   "display_name": "Python 3",
   "language": "python",
   "name": "python3"
  },
  "language_info": {
   "codemirror_mode": {
    "name": "ipython",
    "version": 3
   },
   "file_extension": ".py",
   "mimetype": "text/x-python",
   "name": "python",
   "nbconvert_exporter": "python",
   "pygments_lexer": "ipython3",
   "version": "3.12.6"
  },
  "latex_envs": {
   "LaTeX_envs_menu_present": true,
   "autoclose": false,
   "autocomplete": false,
   "bibliofile": "biblio.bib",
   "cite_by": "apalike",
   "current_citInitial": 1,
   "eqLabelWithNumbers": true,
   "eqNumInitial": 1,
   "hotkeys": {
    "equation": "Ctrl-E",
    "itemize": "Ctrl-I"
   },
   "labels_anchors": false,
   "latex_user_defs": false,
   "report_style_numbering": false,
   "user_envs_cfg": false
  },
  "toc": {
   "base_numbering": 1,
   "nav_menu": {},
   "number_sections": true,
   "sideBar": true,
   "skip_h1_title": false,
   "title_cell": "Table of Contents",
   "title_sidebar": "Contents",
   "toc_cell": false,
   "toc_position": {
    "height": "calc(100% - 180px)",
    "left": "10px",
    "top": "150px",
    "width": "289px"
   },
   "toc_section_display": true,
   "toc_window_display": true
  }
 },
 "nbformat": 4,
 "nbformat_minor": 4
}
